{
 "cells": [
  {
   "cell_type": "markdown",
   "metadata": {
    "id": "tDnwEv8FtJm7"
   },
   "source": [
    "##### Copyright 2018 The TensorFlow Authors."
   ]
  },
  {
   "cell_type": "code",
   "execution_count": 1,
   "metadata": {
    "cellView": "form",
    "execution": {
     "iopub.execute_input": "2022-12-14T08:28:36.162616Z",
     "iopub.status.busy": "2022-12-14T08:28:36.162092Z",
     "iopub.status.idle": "2022-12-14T08:28:36.166126Z",
     "shell.execute_reply": "2022-12-14T08:28:36.165504Z"
    },
    "id": "JlknJBWQtKkI"
   },
   "outputs": [],
   "source": [
    "#@title Licensed under the Apache License, Version 2.0 (the \"License\");\n",
    "# you may not use this file except in compliance with the License.\n",
    "# You may obtain a copy of the License at\n",
    "#\n",
    "# https://www.apache.org/licenses/LICENSE-2.0\n",
    "#\n",
    "# Unless required by applicable law or agreed to in writing, software\n",
    "# distributed under the License is distributed on an \"AS IS\" BASIS,\n",
    "# WITHOUT WARRANTIES OR CONDITIONS OF ANY KIND, either express or implied.\n",
    "# See the License for the specific language governing permissions and\n",
    "# limitations under the License."
   ]
  },
  {
   "cell_type": "markdown",
   "metadata": {
    "id": "60RdWsg1tETW"
   },
   "source": [
    "# Custom layers"
   ]
  },
  {
   "cell_type": "markdown",
   "metadata": {
    "id": "BcJg7Enms86w"
   },
   "source": [
    "<table class=\"tfo-notebook-buttons\" align=\"left\">\n",
    "  <td>\n",
    "    <a target=\"_blank\" href=\"https://www.tensorflow.org/tutorials/customization/custom_layers\"><img src=\"https://www.tensorflow.org/images/tf_logo_32px.png\" />View on TensorFlow.org</a>\n",
    "  </td>\n",
    "  <td>\n",
    "    <a target=\"_blank\" href=\"https://colab.research.google.com/github/tensorflow/docs/blob/master/site/en/tutorials/customization/custom_layers.ipynb\"><img src=\"https://www.tensorflow.org/images/colab_logo_32px.png\" />Run in Google Colab</a>\n",
    "  </td>\n",
    "  <td>\n",
    "    <a target=\"_blank\" href=\"https://github.com/tensorflow/docs/blob/master/site/en/tutorials/customization/custom_layers.ipynb\"><img src=\"https://www.tensorflow.org/images/GitHub-Mark-32px.png\" />View source on GitHub</a>\n",
    "  </td>\n",
    "  <td>\n",
    "    <a href=\"https://storage.googleapis.com/tensorflow_docs/docs/site/en/tutorials/customization/custom_layers.ipynb\"><img src=\"https://www.tensorflow.org/images/download_logo_32px.png\" />Download notebook</a>\n",
    "  </td>\n",
    "</table>"
   ]
  },
  {
   "cell_type": "markdown",
   "metadata": {
    "id": "UEu3q4jmpKVT"
   },
   "source": [
    "We recommend using `tf.keras` as a high-level API for building neural networks. That said, most TensorFlow APIs are usable with eager execution.\n"
   ]
  },
  {
   "cell_type": "code",
   "execution_count": 1,
   "metadata": {
    "execution": {
     "iopub.execute_input": "2022-12-14T08:28:36.169291Z",
     "iopub.status.busy": "2022-12-14T08:28:36.168953Z",
     "iopub.status.idle": "2022-12-14T08:28:38.110287Z",
     "shell.execute_reply": "2022-12-14T08:28:38.109557Z"
    },
    "id": "Py0m-N6VgQFJ"
   },
   "outputs": [],
   "source": [
    "import tensorflow as tf"
   ]
  },
  {
   "cell_type": "code",
   "execution_count": 2,
   "metadata": {
    "execution": {
     "iopub.execute_input": "2022-12-14T08:28:38.114592Z",
     "iopub.status.busy": "2022-12-14T08:28:38.113924Z",
     "iopub.status.idle": "2022-12-14T08:28:38.239132Z",
     "shell.execute_reply": "2022-12-14T08:28:38.238442Z"
    },
    "id": "TluWFcB_2nP5"
   },
   "outputs": [
    {
     "name": "stdout",
     "output_type": "stream",
     "text": [
      "[]\n"
     ]
    }
   ],
   "source": [
    "print(tf.config.list_physical_devices('GPU'))"
   ]
  },
  {
   "cell_type": "markdown",
   "metadata": {
    "id": "zSFfVVjkrrsI"
   },
   "source": [
    "## Layers: common sets of useful operations\n",
    "\n",
    "Most of the time when writing code for machine learning models you want to operate at a higher level of abstraction than individual operations and manipulation of individual variables.\n",
    "\n",
    "Many machine learning models are expressible as the composition and stacking of relatively simple layers, and TensorFlow provides both a set of many common layers as well as easy ways for you to write your own application-specific layers either from scratch or as the composition of existing layers.\n",
    "\n",
    "TensorFlow includes the full [Keras](https://keras.io) API in the tf.keras package, and the Keras layers are very useful when building your own models.\n"
   ]
  },
  {
   "cell_type": "code",
   "execution_count": 3,
   "metadata": {
    "execution": {
     "iopub.execute_input": "2022-12-14T08:28:38.243828Z",
     "iopub.status.busy": "2022-12-14T08:28:38.243331Z",
     "iopub.status.idle": "2022-12-14T08:28:38.252917Z",
     "shell.execute_reply": "2022-12-14T08:28:38.252333Z"
    },
    "id": "8PyXlPl-4TzQ"
   },
   "outputs": [],
   "source": [
    "# In the tf.keras.layers package, layers are objects. To construct a layer,\n",
    "# simply construct the object. Most layers take as a first argument the number\n",
    "# of output dimensions / channels.\n",
    "layer = tf.keras.layers.Dense(100)\n",
    "# The number of input dimensions is often unnecessary, as it can be inferred\n",
    "# the first time the layer is used, but it can be provided if you want to\n",
    "# specify it manually, which is useful in some complex models.\n",
    "layer = tf.keras.layers.Dense(10, input_shape=(None, 5))"
   ]
  },
  {
   "cell_type": "markdown",
   "metadata": {
    "id": "Fn69xxPO5Psr"
   },
   "source": [
    "The full list of pre-existing layers can be seen in [the documentation](https://www.tensorflow.org/api_docs/python/tf/keras/layers). It includes Dense (a fully-connected layer),\n",
    "Conv2D, LSTM, BatchNormalization, Dropout, and many others."
   ]
  },
  {
   "cell_type": "code",
   "execution_count": 4,
   "metadata": {
    "execution": {
     "iopub.execute_input": "2022-12-14T08:28:38.256012Z",
     "iopub.status.busy": "2022-12-14T08:28:38.255796Z",
     "iopub.status.idle": "2022-12-14T08:28:41.891009Z",
     "shell.execute_reply": "2022-12-14T08:28:41.890295Z"
    },
    "id": "E3XKNknP5Mhb"
   },
   "outputs": [
    {
     "data": {
      "text/plain": [
       "<tf.Tensor: shape=(10, 10), dtype=float32, numpy=\n",
       "array([[0., 0., 0., 0., 0., 0., 0., 0., 0., 0.],\n",
       "       [0., 0., 0., 0., 0., 0., 0., 0., 0., 0.],\n",
       "       [0., 0., 0., 0., 0., 0., 0., 0., 0., 0.],\n",
       "       [0., 0., 0., 0., 0., 0., 0., 0., 0., 0.],\n",
       "       [0., 0., 0., 0., 0., 0., 0., 0., 0., 0.],\n",
       "       [0., 0., 0., 0., 0., 0., 0., 0., 0., 0.],\n",
       "       [0., 0., 0., 0., 0., 0., 0., 0., 0., 0.],\n",
       "       [0., 0., 0., 0., 0., 0., 0., 0., 0., 0.],\n",
       "       [0., 0., 0., 0., 0., 0., 0., 0., 0., 0.],\n",
       "       [0., 0., 0., 0., 0., 0., 0., 0., 0., 0.]], dtype=float32)>"
      ]
     },
     "execution_count": 4,
     "metadata": {},
     "output_type": "execute_result"
    }
   ],
   "source": [
    "# To use a layer, simply call it.\n",
    "layer(tf.zeros([10, 5]))"
   ]
  },
  {
   "cell_type": "code",
   "execution_count": 5,
   "metadata": {
    "execution": {
     "iopub.execute_input": "2022-12-14T08:28:41.894648Z",
     "iopub.status.busy": "2022-12-14T08:28:41.894399Z",
     "iopub.status.idle": "2022-12-14T08:28:41.901148Z",
     "shell.execute_reply": "2022-12-14T08:28:41.900485Z"
    },
    "id": "Wt_Nsv-L5t2s"
   },
   "outputs": [
    {
     "data": {
      "text/plain": [
       "[<tf.Variable 'dense_1/kernel:0' shape=(5, 10) dtype=float32, numpy=\n",
       " array([[-0.38857308,  0.27202046, -0.5708098 ,  0.62158376, -0.04939854,\n",
       "          0.05326414, -0.13971776, -0.46550992,  0.5790184 ,  0.027475  ],\n",
       "        [ 0.00919604, -0.00280845,  0.5425492 ,  0.46882695,  0.13559216,\n",
       "          0.07369125,  0.51386935,  0.20733976,  0.06418478,  0.5333095 ],\n",
       "        [-0.18217516, -0.21434873,  0.41715974,  0.5455267 , -0.47900993,\n",
       "         -0.30959228,  0.3799258 , -0.47538525,  0.61856407, -0.1485742 ],\n",
       "        [-0.4661063 ,  0.5348945 , -0.53098077,  0.20762128,  0.04233134,\n",
       "         -0.07354063,  0.55741113,  0.3467707 ,  0.49701732,  0.08597046],\n",
       "        [-0.3792478 ,  0.3285976 , -0.16945714, -0.26186767,  0.13437456,\n",
       "          0.31388903, -0.38926053,  0.61454636, -0.1348747 , -0.49239865]],\n",
       "       dtype=float32)>,\n",
       " <tf.Variable 'dense_1/bias:0' shape=(10,) dtype=float32, numpy=array([0., 0., 0., 0., 0., 0., 0., 0., 0., 0.], dtype=float32)>]"
      ]
     },
     "execution_count": 5,
     "metadata": {},
     "output_type": "execute_result"
    }
   ],
   "source": [
    "# Layers have many useful methods. For example, you can inspect all variables\n",
    "# in a layer using `layer.variables` and trainable variables using\n",
    "# `layer.trainable_variables`. In this case a fully-connected layer\n",
    "# will have variables for weights and biases.\n",
    "layer.variables"
   ]
  },
  {
   "cell_type": "code",
   "execution_count": 6,
   "metadata": {
    "execution": {
     "iopub.execute_input": "2022-12-14T08:28:41.903926Z",
     "iopub.status.busy": "2022-12-14T08:28:41.903702Z",
     "iopub.status.idle": "2022-12-14T08:28:41.909227Z",
     "shell.execute_reply": "2022-12-14T08:28:41.908611Z"
    },
    "id": "6ilvKjz8_4MQ"
   },
   "outputs": [
    {
     "data": {
      "text/plain": [
       "(<tf.Variable 'dense_1/kernel:0' shape=(5, 10) dtype=float32, numpy=\n",
       " array([[-0.38857308,  0.27202046, -0.5708098 ,  0.62158376, -0.04939854,\n",
       "          0.05326414, -0.13971776, -0.46550992,  0.5790184 ,  0.027475  ],\n",
       "        [ 0.00919604, -0.00280845,  0.5425492 ,  0.46882695,  0.13559216,\n",
       "          0.07369125,  0.51386935,  0.20733976,  0.06418478,  0.5333095 ],\n",
       "        [-0.18217516, -0.21434873,  0.41715974,  0.5455267 , -0.47900993,\n",
       "         -0.30959228,  0.3799258 , -0.47538525,  0.61856407, -0.1485742 ],\n",
       "        [-0.4661063 ,  0.5348945 , -0.53098077,  0.20762128,  0.04233134,\n",
       "         -0.07354063,  0.55741113,  0.3467707 ,  0.49701732,  0.08597046],\n",
       "        [-0.3792478 ,  0.3285976 , -0.16945714, -0.26186767,  0.13437456,\n",
       "          0.31388903, -0.38926053,  0.61454636, -0.1348747 , -0.49239865]],\n",
       "       dtype=float32)>,\n",
       " <tf.Variable 'dense_1/bias:0' shape=(10,) dtype=float32, numpy=array([0., 0., 0., 0., 0., 0., 0., 0., 0., 0.], dtype=float32)>)"
      ]
     },
     "execution_count": 6,
     "metadata": {},
     "output_type": "execute_result"
    }
   ],
   "source": [
    "# The variables are also accessible through nice accessors\n",
    "layer.kernel, layer.bias"
   ]
  },
  {
   "cell_type": "markdown",
   "metadata": {
    "id": "O0kDbE54-5VS"
   },
   "source": [
    "## Implementing custom layers\n",
    "The best way to implement your own layer is extending the tf.keras.Layer class and implementing:\n",
    "\n",
    "1. `__init__` , where you can do all input-independent initialization\n",
    "2. `build`, where you know the shapes of the input tensors and can do the rest of the initialization\n",
    "3. `call`, where you do the forward computation\n",
    "\n",
    "Note that you don't have to wait until `build` is called to create your variables, you can also create them in `__init__`. However, the advantage of creating them in `build` is that it enables late variable creation based on the shape of the inputs the layer will operate on. On the other hand, creating variables in `__init__` would mean that shapes required to create the variables will need to be explicitly specified."
   ]
  },
  {
   "cell_type": "code",
   "execution_count": 7,
   "metadata": {
    "execution": {
     "iopub.execute_input": "2022-12-14T08:28:41.912343Z",
     "iopub.status.busy": "2022-12-14T08:28:41.912116Z",
     "iopub.status.idle": "2022-12-14T08:28:41.917049Z",
     "shell.execute_reply": "2022-12-14T08:28:41.916490Z"
    },
    "id": "5Byl3n1k5kIy"
   },
   "outputs": [],
   "source": [
    "class MyDenseLayer(tf.keras.layers.Layer):\n",
    "  def __init__(self, num_outputs):\n",
    "    super(MyDenseLayer, self).__init__()\n",
    "    self.num_outputs = num_outputs\n",
    "\n",
    "  def build(self, input_shape):\n",
    "    self.kernel = self.add_weight(\"kernel\",\n",
    "                                  shape=[int(input_shape[-1]),\n",
    "                                         self.num_outputs])\n",
    "\n",
    "  def call(self, inputs):\n",
    "    return tf.matmul(inputs, self.kernel)\n",
    "\n",
    "layer = MyDenseLayer(10)"
   ]
  },
  {
   "cell_type": "code",
   "execution_count": 8,
   "metadata": {
    "execution": {
     "iopub.execute_input": "2022-12-14T08:28:41.919848Z",
     "iopub.status.busy": "2022-12-14T08:28:41.919610Z",
     "iopub.status.idle": "2022-12-14T08:28:41.926016Z",
     "shell.execute_reply": "2022-12-14T08:28:41.925160Z"
    },
    "id": "vrmBsYGOnuGO"
   },
   "outputs": [],
   "source": [
    "_ = layer(tf.zeros([10, 5])) # Calling the layer `.builds` it."
   ]
  },
  {
   "cell_type": "code",
   "execution_count": 9,
   "metadata": {
    "execution": {
     "iopub.execute_input": "2022-12-14T08:28:41.928930Z",
     "iopub.status.busy": "2022-12-14T08:28:41.928692Z",
     "iopub.status.idle": "2022-12-14T08:28:41.932869Z",
     "shell.execute_reply": "2022-12-14T08:28:41.932117Z"
    },
    "id": "1bsLjiPfnvat"
   },
   "outputs": [
    {
     "name": "stdout",
     "output_type": "stream",
     "text": [
      "['my_dense_layer/kernel:0']\n"
     ]
    }
   ],
   "source": [
    "print([var.name for var in layer.trainable_variables])"
   ]
  },
  {
   "cell_type": "markdown",
   "metadata": {
    "id": "tk8E2vY0-z4Z"
   },
   "source": [
    "Overall code is easier to read and maintain if it uses standard layers whenever possible, as other readers will be familiar with the behavior of standard layers. If you want to use a layer which is not present in `tf.keras.layers`, consider filing a [github issue](http://github.com/tensorflow/tensorflow/issues/new) or, even better, sending us a pull request!"
   ]
  },
  {
   "cell_type": "markdown",
   "metadata": {
    "id": "Qhg4KlbKrs3G"
   },
   "source": [
    "## Models: Composing layers\n",
    "\n",
    "Many interesting layer-like things in machine learning models are implemented by composing existing layers. For example, each residual block in a resnet is a composition of convolutions, batch normalizations, and a shortcut. Layers can be nested inside other layers.\n",
    "\n",
    "Typically you inherit from `keras.Model` when you need the model methods like: `Model.fit`,`Model.evaluate`, and `Model.save` (see [Custom Keras layers and models](https://www.tensorflow.org/guide/keras/custom_layers_and_models) for details).\n",
    "\n",
    "One other feature provided by `keras.Model` (instead of `keras.layers.Layer`) is that in addition to tracking variables, a `keras.Model` also tracks its internal layers, making them easier to inspect.\n",
    "\n",
    "For example here is a ResNet block:"
   ]
  },
  {
   "cell_type": "code",
   "execution_count": 10,
   "metadata": {
    "execution": {
     "iopub.execute_input": "2022-12-14T08:28:41.936383Z",
     "iopub.status.busy": "2022-12-14T08:28:41.935781Z",
     "iopub.status.idle": "2022-12-14T08:28:41.955120Z",
     "shell.execute_reply": "2022-12-14T08:28:41.954345Z"
    },
    "id": "N30DTXiRASlb"
   },
   "outputs": [],
   "source": [
    "class ResnetIdentityBlock(tf.keras.Model):\n",
    "  def __init__(self, kernel_size, filters):\n",
    "    super(ResnetIdentityBlock, self).__init__(name='')\n",
    "    filters1, filters2, filters3 = filters\n",
    "\n",
    "    self.conv2a = tf.keras.layers.Conv2D(filters1, (1, 1))\n",
    "    self.bn2a = tf.keras.layers.BatchNormalization()\n",
    "\n",
    "    self.conv2b = tf.keras.layers.Conv2D(filters2, kernel_size, padding='same')\n",
    "    self.bn2b = tf.keras.layers.BatchNormalization()\n",
    "\n",
    "    self.conv2c = tf.keras.layers.Conv2D(filters3, (1, 1))\n",
    "    self.bn2c = tf.keras.layers.BatchNormalization()\n",
    "\n",
    "  def call(self, input_tensor, training=False):\n",
    "    x = self.conv2a(input_tensor)\n",
    "    x = self.bn2a(x, training=training)\n",
    "    x = tf.nn.relu(x)\n",
    "\n",
    "    x = self.conv2b(x)\n",
    "    x = self.bn2b(x, training=training)\n",
    "    x = tf.nn.relu(x)\n",
    "\n",
    "    x = self.conv2c(x)\n",
    "    x = self.bn2c(x, training=training)\n",
    "\n",
    "    x += input_tensor\n",
    "    return tf.nn.relu(x)\n",
    "\n",
    "\n",
    "block = ResnetIdentityBlock(1, [1, 2, 3])"
   ]
  },
  {
   "cell_type": "code",
   "execution_count": 11,
   "metadata": {
    "execution": {
     "iopub.execute_input": "2022-12-14T08:28:41.958613Z",
     "iopub.status.busy": "2022-12-14T08:28:41.958014Z",
     "iopub.status.idle": "2022-12-14T08:28:42.197457Z",
     "shell.execute_reply": "2022-12-14T08:28:42.196508Z"
    },
    "id": "7D8ZR5mqtokj"
   },
   "outputs": [],
   "source": [
    "_ = block(tf.zeros([1, 2, 3, 3])) "
   ]
  },
  {
   "cell_type": "code",
   "execution_count": 12,
   "metadata": {
    "execution": {
     "iopub.execute_input": "2022-12-14T08:28:42.202178Z",
     "iopub.status.busy": "2022-12-14T08:28:42.201387Z",
     "iopub.status.idle": "2022-12-14T08:28:42.206994Z",
     "shell.execute_reply": "2022-12-14T08:28:42.206128Z"
    },
    "id": "MJ8rzFpdoE_m"
   },
   "outputs": [
    {
     "data": {
      "text/plain": [
       "[<keras.layers.convolutional.conv2d.Conv2D at 0x18dcdfe2380>,\n",
       " <keras.layers.normalization.batch_normalization.BatchNormalization at 0x18dcc7c5c00>,\n",
       " <keras.layers.convolutional.conv2d.Conv2D at 0x18dd8debaf0>,\n",
       " <keras.layers.normalization.batch_normalization.BatchNormalization at 0x18dd8de8df0>,\n",
       " <keras.layers.convolutional.conv2d.Conv2D at 0x18dd8de8130>,\n",
       " <keras.layers.normalization.batch_normalization.BatchNormalization at 0x18dd8dea770>]"
      ]
     },
     "execution_count": 12,
     "metadata": {},
     "output_type": "execute_result"
    }
   ],
   "source": [
    "block.layers"
   ]
  },
  {
   "cell_type": "code",
   "execution_count": 13,
   "metadata": {
    "execution": {
     "iopub.execute_input": "2022-12-14T08:28:42.210088Z",
     "iopub.status.busy": "2022-12-14T08:28:42.209620Z",
     "iopub.status.idle": "2022-12-14T08:28:42.214662Z",
     "shell.execute_reply": "2022-12-14T08:28:42.213915Z"
    },
    "id": "dewldLuDvQRM"
   },
   "outputs": [
    {
     "data": {
      "text/plain": [
       "18"
      ]
     },
     "execution_count": 13,
     "metadata": {},
     "output_type": "execute_result"
    }
   ],
   "source": [
    "len(block.variables)"
   ]
  },
  {
   "cell_type": "code",
   "execution_count": 14,
   "metadata": {
    "execution": {
     "iopub.execute_input": "2022-12-14T08:28:42.217860Z",
     "iopub.status.busy": "2022-12-14T08:28:42.217201Z",
     "iopub.status.idle": "2022-12-14T08:28:42.239134Z",
     "shell.execute_reply": "2022-12-14T08:28:42.238370Z"
    },
    "id": "FrqIXeSetaYi"
   },
   "outputs": [
    {
     "name": "stdout",
     "output_type": "stream",
     "text": [
      "Model: \"\"\n",
      "_________________________________________________________________\n",
      " Layer (type)                Output Shape              Param #   \n",
      "=================================================================\n",
      " conv2d (Conv2D)             multiple                  4         \n",
      "                                                                 \n",
      " batch_normalization (BatchN  multiple                 4         \n",
      " ormalization)                                                   \n",
      "                                                                 \n",
      " conv2d_1 (Conv2D)           multiple                  4         \n",
      "                                                                 \n",
      " batch_normalization_1 (Batc  multiple                 8         \n",
      " hNormalization)                                                 \n",
      "                                                                 \n",
      " conv2d_2 (Conv2D)           multiple                  9         \n",
      "                                                                 \n",
      " batch_normalization_2 (Batc  multiple                 12        \n",
      " hNormalization)                                                 \n",
      "                                                                 \n",
      "=================================================================\n",
      "Total params: 41\n",
      "Trainable params: 29\n",
      "Non-trainable params: 12\n",
      "_________________________________________________________________\n"
     ]
    }
   ],
   "source": [
    "block.summary()"
   ]
  },
  {
   "cell_type": "markdown",
   "metadata": {
    "id": "wYfucVw65PMj"
   },
   "source": [
    "Much of the time, however, models which compose many layers simply call one layer after the other. This can be done in very little code using `tf.keras.Sequential`:"
   ]
  },
  {
   "cell_type": "code",
   "execution_count": 15,
   "metadata": {
    "execution": {
     "iopub.execute_input": "2022-12-14T08:28:42.242343Z",
     "iopub.status.busy": "2022-12-14T08:28:42.241875Z",
     "iopub.status.idle": "2022-12-14T08:28:42.309969Z",
     "shell.execute_reply": "2022-12-14T08:28:42.309399Z"
    },
    "id": "L9frk7Ur4uvJ"
   },
   "outputs": [
    {
     "data": {
      "text/plain": [
       "<tf.Tensor: shape=(1, 2, 3, 3), dtype=float32, numpy=\n",
       "array([[[[0., 0., 0.],\n",
       "         [0., 0., 0.],\n",
       "         [0., 0., 0.]],\n",
       "\n",
       "        [[0., 0., 0.],\n",
       "         [0., 0., 0.],\n",
       "         [0., 0., 0.]]]], dtype=float32)>"
      ]
     },
     "execution_count": 15,
     "metadata": {},
     "output_type": "execute_result"
    }
   ],
   "source": [
    "my_seq = tf.keras.Sequential([tf.keras.layers.Conv2D(1, (1, 1),\n",
    "                                                    input_shape=(\n",
    "                                                        None, None, 3)),\n",
    "                             tf.keras.layers.BatchNormalization(),\n",
    "                             tf.keras.layers.Conv2D(2, 1,\n",
    "                                                    padding='same'),\n",
    "                             tf.keras.layers.BatchNormalization(),\n",
    "                             tf.keras.layers.Conv2D(3, (1, 1)),\n",
    "                             tf.keras.layers.BatchNormalization()])\n",
    "my_seq(tf.zeros([1, 2, 3, 3]))"
   ]
  },
  {
   "cell_type": "code",
   "execution_count": 16,
   "metadata": {
    "execution": {
     "iopub.execute_input": "2022-12-14T08:28:42.313307Z",
     "iopub.status.busy": "2022-12-14T08:28:42.312870Z",
     "iopub.status.idle": "2022-12-14T08:28:42.327760Z",
     "shell.execute_reply": "2022-12-14T08:28:42.327154Z"
    },
    "id": "tVAsbFITuScB"
   },
   "outputs": [
    {
     "name": "stdout",
     "output_type": "stream",
     "text": [
      "Model: \"sequential\"\n",
      "_________________________________________________________________\n",
      " Layer (type)                Output Shape              Param #   \n",
      "=================================================================\n",
      " conv2d_3 (Conv2D)           (None, None, None, 1)     4         \n",
      "                                                                 \n",
      " batch_normalization_3 (Batc  (None, None, None, 1)    4         \n",
      " hNormalization)                                                 \n",
      "                                                                 \n",
      " conv2d_4 (Conv2D)           (None, None, None, 2)     4         \n",
      "                                                                 \n",
      " batch_normalization_4 (Batc  (None, None, None, 2)    8         \n",
      " hNormalization)                                                 \n",
      "                                                                 \n",
      " conv2d_5 (Conv2D)           (None, None, None, 3)     9         \n",
      "                                                                 \n",
      " batch_normalization_5 (Batc  (None, None, None, 3)    12        \n",
      " hNormalization)                                                 \n",
      "                                                                 \n",
      "=================================================================\n",
      "Total params: 41\n",
      "Trainable params: 29\n",
      "Non-trainable params: 12\n",
      "_________________________________________________________________\n"
     ]
    }
   ],
   "source": [
    "my_seq.summary()"
   ]
  },
  {
   "cell_type": "markdown",
   "metadata": {
    "id": "c5YwYcnuK-wc"
   },
   "source": [
    "# Next steps\n",
    "\n",
    "Now you can go back to the previous notebook and adapt the linear regression example to use layers and models to be better structured."
   ]
  }
 ],
 "metadata": {
  "colab": {
   "collapsed_sections": [],
   "name": "custom_layers.ipynb",
   "toc_visible": true
  },
  "kernelspec": {
   "display_name": "tensorflow",
   "language": "python",
   "name": "envt"
  },
  "language_info": {
   "codemirror_mode": {
    "name": "ipython",
    "version": 3
   },
   "file_extension": ".py",
   "mimetype": "text/x-python",
   "name": "python",
   "nbconvert_exporter": "python",
   "pygments_lexer": "ipython3",
   "version": "3.10.9"
  }
 },
 "nbformat": 4,
 "nbformat_minor": 1
}
